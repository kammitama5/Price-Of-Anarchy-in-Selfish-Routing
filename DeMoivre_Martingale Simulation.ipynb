{
 "cells": [
  {
   "cell_type": "markdown",
   "metadata": {},
   "source": [
    "## Classical Martingale"
   ]
  },
  {
   "cell_type": "markdown",
   "metadata": {},
   "source": [
    "A Martingale is is a model for a fair game. It is given with respect to a filtration $F_n$ (typically represented by a Brownian motion) and a probability $p$. $X_m - X_n$ represents our (net?) winnings for our game, such that $E[X_m - X_n | F_n]$."
   ]
  },
  {
   "cell_type": "markdown",
   "metadata": {},
   "source": [
    "We define a \"fair\" game such that we have no winners or losers, so where $X_m - X_n$ represents our winnings for our game, $X_m - X_n = 0$"
   ]
  },
  {
   "cell_type": "markdown",
   "metadata": {},
   "source": [
    "A sequence $Z_n$ is called a martingale with respect to a filtration $F_n$ if:\n",
    "- (1) $E[|Z_n|] < \\infty (\\forall n)$\n",
    "- (2) $Z_n \\in F_n (\\forall n)$\n",
    "- (3) $E[Z_{n+1}|F_n] = Z_n(\\forall n)$"
   ]
  },
  {
   "cell_type": "markdown",
   "metadata": {},
   "source": [
    "- A **submartingale** is defined by $E[Z_{n+1}|F_n] \\geq Z_n(\\forall n)$\n",
    "- A **supermartingale** is defined by $E[Z_{n+1}|F_n] \\leq Z_n(\\forall n)$.\n",
    "- To make a random walk martingale, $S_0 = 0$, where $S_n = S_{n+1} + X_n$, where $S_n$ is the sum of $n$ (iid) random variables and $X_i$'s represent increments of the random walk.\n",
    "Every martingale can be measured by the sum of its increments, so we can rewrite our\n",
    "martingale as a sum of martingale differences such that $E[X_i|F_{i-1}] = 0$ and $Z_n = Z_0 + \\Sigma^n_{i=1} X_i$."
   ]
  },
  {
   "cell_type": "markdown",
   "metadata": {},
   "source": [
    "## De Moivre's Martingale Simulation"
   ]
  },
  {
   "cell_type": "markdown",
   "metadata": {},
   "source": [
    "Let $X_n$ be the result from $n$ tosses of a fair coin (so $p$ = 0.5)"
   ]
  },
  {
   "cell_type": "markdown",
   "metadata": {},
   "source": [
    "Let $Y_n = X^{2}_n - n$ where $X_n$ is the preceding result. \n",
    "Then { $Y_n : n = 1, 2, 3,$ ..} is a martingale."
   ]
  },
  {
   "cell_type": "markdown",
   "metadata": {},
   "source": [
    "Let the coin be unfair, with probability of $p$ of one option (say heads) vs another (say tails) so that our second option $q$ is defined by $q = 1 - p$ of tails.\n",
    "We let our options be represented as $+1$ for our first option (heads) and $-1$ for the other option (say tails)."
   ]
  },
  {
   "cell_type": "markdown",
   "metadata": {},
   "source": [
    "The $Y_n$ definition doesn't hold for our condition so that is our TODO\n",
    "This gives us $X_{n+1} = X_n \\pm 1$ or 0, where $+$ represents heads and $-$ is tails or 0 if we hit the boundary.\n",
    "We get that $Y_n = (\\frac{q}{p})^{X_n}$ where {$Y_n$ : $n = 1,2,3,$..} is a martingale with respect to {$X_n$ : $n = 1,2,3,$ ..}."
   ]
  },
  {
   "cell_type": "markdown",
   "metadata": {},
   "source": [
    "Let's assume $q$ = 0.9\n",
    "Then $p$ = 0.1"
   ]
  },
  {
   "cell_type": "markdown",
   "metadata": {},
   "source": [
    "Another way of stating this: We get that $Z_n = (\\frac{1-p}{p})^{X_n}$ where $Z$ = {$Z_n$ : $n \\in N$} is a martingale with respect to $X$."
   ]
  },
  {
   "cell_type": "markdown",
   "metadata": {},
   "source": [
    "## What we want to do : todo add\n",
    "We want to observe after N steps, our stopping time, the result of our random walk which has an equal likelihood of a toss of either -1 or 1 (i.e. p = 0.5 and q = 0.5)."
   ]
  },
  {
   "cell_type": "markdown",
   "metadata": {},
   "source": [
    "## De Moivre's Martingale Code"
   ]
  },
  {
   "cell_type": "code",
   "execution_count": 169,
   "metadata": {},
   "outputs": [],
   "source": [
    "## Import Libraries\n",
    "import numpy as np\n",
    "import pandas as pd\n",
    "import random\n",
    "from matplotlib import pyplot as plt"
   ]
  },
  {
   "cell_type": "code",
   "execution_count": 170,
   "metadata": {},
   "outputs": [
    {
     "name": "stdout",
     "output_type": "stream",
     "text": [
      "X_n 1, p 0.5, q 0.5\n",
      "1.0\n",
      "X_n 0, p 0.5, q 0.5\n",
      "1.0\n",
      "X_n 1, p 0.5, q 0.5\n",
      "1.0\n",
      "X_n 2, p 0.5, q 0.5\n",
      "1.0\n",
      "X_n 3, p 0.5, q 0.5\n",
      "1.0\n",
      "X_n 4, p 0.5, q 0.5\n",
      "1.0\n",
      "X_n 3, p 0.5, q 0.5\n",
      "1.0\n",
      "X_n 2, p 0.5, q 0.5\n",
      "1.0\n",
      "X_n 3, p 0.5, q 0.5\n",
      "1.0\n",
      "X_n 2, p 0.5, q 0.5\n",
      "1.0\n",
      "X_n 3, p 0.5, q 0.5\n",
      "1.0\n",
      "X_n 4, p 0.5, q 0.5\n",
      "1.0\n",
      "X_n 3, p 0.5, q 0.5\n",
      "1.0\n",
      "X_n 2, p 0.5, q 0.5\n",
      "1.0\n",
      "X_n 3, p 0.5, q 0.5\n",
      "1.0\n",
      "X_n 2, p 0.5, q 0.5\n",
      "1.0\n",
      "X_n 3, p 0.5, q 0.5\n",
      "1.0\n",
      "X_n 4, p 0.5, q 0.5\n",
      "1.0\n",
      "X_n 3, p 0.5, q 0.5\n",
      "1.0\n",
      "[1, -1, 1, 1, 1, 1, -1, -1, 1, -1, 1, 1, -1, -1, 1, -1, 1, 1, -1]\n",
      "[0, 1, 0, 1, 2, 3, 4, 3, 2, 3, 2, 3, 4, 3, 2, 3, 2, 3, 4, 3]\n",
      "[0, 1.0, 1.0, 1.0, 1.0, 1.0, 1.0, 1.0, 1.0, 1.0, 1.0, 1.0, 1.0, 1.0, 1.0, 1.0, 1.0, 1.0, 1.0, 1.0]\n",
      "[0, 1, 2, 3, 4, 5, 6, 7, 8, 9, 10, 11, 12, 13, 14, 15, 16, 17, 18, 19]\n"
     ]
    }
   ],
   "source": [
    "p = 0.5\n",
    "q = 1.0 - p\n",
    "choice = [-1, 1]\n",
    "x = random.choice(choice)\n",
    "n = list(range(0, 20))\n",
    "X_n = 0\n",
    "random_toss_array = []\n",
    "step_array = [0]\n",
    "X_narray = [0]\n",
    "moivrearray = [0]\n",
    "for i in range(1, 20):\n",
    "    num = random.choice(choice)\n",
    "    step_array.append(i)\n",
    "    X_n = X_n + num\n",
    "    X_narray.append(X_n)\n",
    "    random_toss_array.append(num)\n",
    "    print(\"X_n {}, p {}, q {}\".format(X_n, p, q))\n",
    "    print(pow(q * 1.0 / p * 1.0, X_n))\n",
    "    moivrearray.append((q * 1.0) / (p * 1.0))\n",
    "\n",
    "print(random_toss_array) # this holds our tosses of -1 or 1\n",
    "print(X_narray) # looks like things are cumulative in array1\n",
    "print(moivrearray) ## Not quite there\n",
    "print(step_array)\n"
   ]
  },
  {
   "cell_type": "code",
   "execution_count": 123,
   "metadata": {},
   "outputs": [],
   "source": [
    "# How far can I go? \n",
    "# Where does this come from and what does this get us?\n",
    "# Does it fit what we need?\n",
    "# What is our random variable sample space?\n",
    "# Are we filtering out any values?\n",
    "# What are our assumptions?"
   ]
  },
  {
   "cell_type": "markdown",
   "metadata": {},
   "source": [
    "## Plot De Moivre's Martingale Simulation when p = 0.5"
   ]
  },
  {
   "cell_type": "code",
   "execution_count": 171,
   "metadata": {},
   "outputs": [
    {
     "data": {
      "image/png": "[encoded data removed]",
      "text/plain": [
       "<Figure size 432x288 with 1 Axes>"
      ]
     },
     "metadata": {
      "needs_background": "light"
     },
     "output_type": "display_data"
    }
   ],
   "source": [
    "## plot p=0.5 simulation\n",
    "plt.plot(step_array,moivrearray, color='green')\n",
    "plt.xlabel('Time t') \n",
    "plt.ylabel('de Moivre Value at Time t') \n",
    "plt.title(\"Simulation of de Moivre Martingale Value at Time t\")\n",
    "plt.gca().xaxis.set_major_locator(plt.MultipleLocator(1))\n",
    "plt.show()"
   ]
  },
  {
   "cell_type": "markdown",
   "metadata": {},
   "source": [
    "## When probability is not equal i.e. p = 0.9"
   ]
  },
  {
   "cell_type": "code",
   "execution_count": 172,
   "metadata": {},
   "outputs": [
    {
     "name": "stdout",
     "output_type": "stream",
     "text": [
      "X_n 0, p 0.9, q 0.1\n",
      "1.0\n",
      "X_n 0, p 0.9, q 0.1\n",
      "1.0\n",
      "X_n 0, p 0.9, q 0.1\n",
      "1.0\n",
      "X_n -1, p 0.9, q 0.1\n",
      "9.0\n",
      "X_n 0, p 0.9, q 0.1\n",
      "1.0\n",
      "X_n 1, p 0.9, q 0.1\n",
      "0.11111111111111112\n",
      "X_n 1, p 0.9, q 0.1\n",
      "0.11111111111111112\n",
      "X_n 0, p 0.9, q 0.1\n",
      "1.0\n",
      "X_n -1, p 0.9, q 0.1\n",
      "9.0\n",
      "X_n -1, p 0.9, q 0.1\n",
      "9.0\n",
      "X_n -2, p 0.9, q 0.1\n",
      "80.99999999999999\n",
      "X_n -3, p 0.9, q 0.1\n",
      "728.9999999999999\n",
      "X_n -2, p 0.9, q 0.1\n",
      "80.99999999999999\n",
      "X_n -3, p 0.9, q 0.1\n",
      "728.9999999999999\n",
      "X_n -3, p 0.9, q 0.1\n",
      "728.9999999999999\n",
      "X_n -3, p 0.9, q 0.1\n",
      "728.9999999999999\n",
      "X_n -4, p 0.9, q 0.1\n",
      "6560.999999999998\n",
      "X_n -5, p 0.9, q 0.1\n",
      "59048.99999999998\n",
      "X_n -5, p 0.9, q 0.1\n",
      "59048.99999999998\n",
      "[0, 0, 0, -1, 1, 1, 0, -1, -1, 0, -1, -1, 1, -1, 0, 0, -1, -1, 0]\n",
      "[0, 0, 0, -1, 0, 1, 1, 0, -1, -1, -2, -3, -2, -3, -3, -3, -4, -5, -5]\n",
      "[0, 1.0, 1.0, 1.0, 9.0, 1.0, 0.11111111111111112, 0.11111111111111112, 1.0, 9.0, 9.0, 80.99999999999999, 728.9999999999999, 80.99999999999999, 728.9999999999999, 728.9999999999999, 728.9999999999999, 6560.999999999998, 59048.99999999998, 59048.99999999998]\n",
      "[0, 1, 2, 3, 4, 5, 6, 7, 8, 9, 10, 11, 12, 13, 14, 15, 16, 17, 18, 19]\n"
     ]
    }
   ],
   "source": [
    "p = 0.9\n",
    "q = 0.1\n",
    "choice = [-1, 1, 0]\n",
    "x = random.choice(choice)\n",
    "n = list(range(0, 40))\n",
    "X_n = 0\n",
    "random_toss_array = []\n",
    "X_narray = []\n",
    "step_array = [0]\n",
    "moivrearray = [0]\n",
    "for i in range(1, 20):\n",
    "    step_array.append(i)\n",
    "    num = random.choice(choice)\n",
    "    X_n = X_n + num\n",
    "    X_narray.append(X_n)\n",
    "    random_toss_array.append(num)\n",
    "    print(\"X_n {}, p {}, q {}\".format(X_n, p, q))\n",
    "    print(pow(q * 1.0 / p * 1.0, X_n))\n",
    "    moivrearray.append(pow(q * 1.0 / p * 1.0, X_n))\n",
    "    \n",
    "\n",
    "print(random_toss_array) # this holds our tosses of -1 or 1 or 0\n",
    "print(X_narray) # X_n array should hold our accumulation +- our toss\n",
    "print(moivrearray) ## calculate De Moivre result and add to array\n",
    "print(step_array) ## what step are we?\n",
    "\n",
    "## If our channel can only go to -3, then -4 would not be valid\n"
   ]
  },
  {
   "cell_type": "markdown",
   "metadata": {},
   "source": [
    "## Plot De Moivre's Martingale Simulation when p = 0.9"
   ]
  },
  {
   "cell_type": "code",
   "execution_count": 173,
   "metadata": {},
   "outputs": [
    {
     "data": {
      "image/png": "[encoded data removed]",
      "text/plain": [
       "<Figure size 432x288 with 1 Axes>"
      ]
     },
     "metadata": {
      "needs_background": "light"
     },
     "output_type": "display_data"
    }
   ],
   "source": [
    "# plot p=0.9 simulation\n",
    "import matplotlib.ticker as plticker\n",
    "\n",
    "\n",
    "plt.plot(step_array, moivrearray, color='orange')\n",
    "plt.xlabel('Step n') \n",
    "plt.ylabel('de Moivre Value at Step n') \n",
    "plt.title(\"Simulation of de Moivre Martingale Value at Step n\")\n",
    "plt.gca().xaxis.set_major_locator(plt.MultipleLocator(1))\n",
    "plt.show()"
   ]
  },
  {
   "cell_type": "markdown",
   "metadata": {},
   "source": [
    "#### References:\n",
    "- [1] \"Simulation and analysis of the carrying capacity for road networks using a grid-based approach\" by J. Shi, L. Chen, F. Qiao, L. Yu, Q. Li, G. Fan.\n",
    "- [2] \"Modeling a Steady-State Lightning Network Economy\" by G. Guidi\n",
    "- [3] \n",
    "- [4] \n",
    "- [5]"
   ]
  },
  {
   "cell_type": "code",
   "execution_count": null,
   "metadata": {},
   "outputs": [],
   "source": []
  }
 ],
 "metadata": {
  "kernelspec": {
   "display_name": "Python 3",
   "language": "python",
   "name": "python3"
  },
  "language_info": {
   "codemirror_mode": {
    "name": "ipython",
    "version": 3
   },
   "file_extension": ".py",
   "mimetype": "text/x-python",
   "name": "python",
   "nbconvert_exporter": "python",
   "pygments_lexer": "ipython3",
   "version": "3.7.3"
  }
 },
 "nbformat": 4,
 "nbformat_minor": 4
}
