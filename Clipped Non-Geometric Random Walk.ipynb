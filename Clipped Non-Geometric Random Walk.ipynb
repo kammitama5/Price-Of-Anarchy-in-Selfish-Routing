{
 "cells": [
  {
   "cell_type": "markdown",
   "metadata": {},
   "source": [
    "# Clipped Non-Geometric Random Walk"
   ]
  },
  {
   "cell_type": "markdown",
   "metadata": {},
   "source": [
    "### Degenerate Case: Geometric Random Walk\n",
    "- This in general will not help us, but we decided to start here as it is a well-researched problem"
   ]
  },
  {
   "cell_type": "markdown",
   "metadata": {},
   "source": [
    "Let p be a probability and q = 1-p. Let W be a random 1-dimensional walk that is balanced such that $p$ = 0.5 and $q$ = 0.5. In this case, we expect that the walk returns to the origin in some time $t$ after $n$ number of steps."
   ]
  },
  {
   "cell_type": "markdown",
   "metadata": {},
   "source": [
    "### Degenerate Case: Clipped Geometric Random Walk"
   ]
  },
  {
   "cell_type": "markdown",
   "metadata": {},
   "source": [
    "- Normal distribution"
   ]
  },
  {
   "cell_type": "markdown",
   "metadata": {},
   "source": [
    "### Non-Degenerate random walk case"
   ]
  },
  {
   "cell_type": "code",
   "execution_count": null,
   "metadata": {},
   "outputs": [],
   "source": []
  },
  {
   "cell_type": "markdown",
   "metadata": {},
   "source": [
    "### Non-Degenerate random walk with clipping"
   ]
  },
  {
   "cell_type": "code",
   "execution_count": null,
   "metadata": {},
   "outputs": [],
   "source": []
  },
  {
   "cell_type": "markdown",
   "metadata": {},
   "source": [
    "## Simulation of Mathematical Model"
   ]
  },
  {
   "cell_type": "code",
   "execution_count": 1,
   "metadata": {},
   "outputs": [],
   "source": [
    "## Import Libraries\n",
    "import numpy as np\n",
    "import pandas as pd\n",
    "import random\n",
    "from matplotlib import pyplot as plt"
   ]
  },
  {
   "cell_type": "code",
   "execution_count": null,
   "metadata": {},
   "outputs": [],
   "source": []
  },
  {
   "cell_type": "code",
   "execution_count": null,
   "metadata": {},
   "outputs": [],
   "source": []
  },
  {
   "cell_type": "markdown",
   "metadata": {},
   "source": [
    "## Generated Model\n",
    "- Code is provided by Rene in his notebook here: https://github.com/lnresearch/Price-Of-Anarchy-in-Selfish-Routing/blob/main/Constrained%20Random%20Walk%20Example.ipynb"
   ]
  },
  {
   "cell_type": "code",
   "execution_count": 3,
   "metadata": {},
   "outputs": [],
   "source": [
    "import random\n",
    "import matplotlib.pyplot as plt"
   ]
  },
  {
   "cell_type": "code",
   "execution_count": 4,
   "metadata": {},
   "outputs": [],
   "source": [
    "number_of_steps = 100_000\n",
    "capacity = 100\n",
    "position = 0\n",
    "go_right = 0.6\n",
    "go_left = 1 - go_right"
   ]
  },
  {
   "cell_type": "code",
   "execution_count": 5,
   "metadata": {},
   "outputs": [],
   "source": [
    "number_of_walks = 1_000\n",
    "\n",
    "positions={n:[] for n in range(number_of_steps)}\n",
    "\n",
    "for i in range(number_of_walks):\n",
    "    position=int(random.random()*capacity+0.5)\n",
    "    for step in range(number_of_steps):\n",
    "        p = random.random()\n",
    "        if p < go_right and position < capacity:\n",
    "            position +=1\n",
    "        if p >= go_right and position > 0:\n",
    "            position -= 1\n",
    "        positions[step].append(position)"
   ]
  },
  {
   "cell_type": "code",
   "execution_count": 6,
   "metadata": {},
   "outputs": [
    {
     "data": {
      "image/png": "[encoded data removed]",
      "text/plain": [
       "<Figure size 432x288 with 1 Axes>"
      ]
     },
     "metadata": {
      "needs_background": "light"
     },
     "output_type": "display_data"
    }
   ],
   "source": [
    "plt.title(\"Distribution of positions of the contrainted random walk after 100_000 steps\")\n",
    "plt.hist(positions[number_of_steps-1],bins=100)\n",
    "plt.grid()\n",
    "plt.xlim(90,100)\n",
    "plt.xlabel(\"position\")\n",
    "plt.ylabel(\"number occurances / frequency\")\n",
    "plt.show()"
   ]
  },
  {
   "cell_type": "code",
   "execution_count": 2,
   "metadata": {},
   "outputs": [],
   "source": [
    "# Placement for now, starting with first "
   ]
  },
  {
   "cell_type": "code",
   "execution_count": null,
   "metadata": {},
   "outputs": [],
   "source": [
    "# plt.title(\"Distribution takes some steps to stableize\")\n",
    "# for i in range(1,10):\n",
    "#     steps = 2**i\n",
    "#     plt.hist(positions[steps],bins=100,density=True, cumulative=True, histtype=\"step\",linewidth=2, label=\"after {} steps\".format(steps))\n",
    "# plt.legend(loc = \"upper left\")\n",
    "# plt.grid()\n",
    "# plt.xlim(0,100)\n",
    "# plt.xlabel(\"position\")\n",
    "# plt.ylabel(\"CDF\")"
   ]
  },
  {
   "cell_type": "code",
   "execution_count": null,
   "metadata": {},
   "outputs": [],
   "source": [
    "# plt.title(\"CDF of channel position of random walk after x steps\")\n",
    "# for i in range(9,17):\n",
    "#     steps = 2**i\n",
    "#     plt.hist(positions[steps],bins=100,density=True, cumulative=True, histtype=\"step\",linewidth=2, label=\"after {} steps\".format(steps))\n",
    "\n",
    "# plt.legend(loc = \"upper left\")\n",
    "# plt.grid()\n",
    "# plt.xlabel(\"position\")\n",
    "# plt.xlim(90,100)\n",
    "# plt.ylabel(\"CDF\")\n",
    "# plt.show()"
   ]
  },
  {
   "cell_type": "markdown",
   "metadata": {},
   "source": [
    "## Comparison of Models\n",
    "- This might be a good idea to show error between models"
   ]
  },
  {
   "cell_type": "code",
   "execution_count": null,
   "metadata": {},
   "outputs": [],
   "source": []
  }
 ],
 "metadata": {
  "kernelspec": {
   "display_name": "Python 3",
   "language": "python",
   "name": "python3"
  },
  "language_info": {
   "codemirror_mode": {
    "name": "ipython",
    "version": 3
   },
   "file_extension": ".py",
   "mimetype": "text/x-python",
   "name": "python",
   "nbconvert_exporter": "python",
   "pygments_lexer": "ipython3",
   "version": "3.7.3"
  }
 },
 "nbformat": 4,
 "nbformat_minor": 4
}
